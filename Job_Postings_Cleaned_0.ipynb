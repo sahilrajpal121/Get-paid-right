{
  "nbformat": 4,
  "nbformat_minor": 0,
  "metadata": {
    "colab": {
      "name": "Job Postings Cleaned_0",
      "provenance": [],
      "authorship_tag": "ABX9TyM+Z+peqMHgt+WwsHmGz4W0",
      "include_colab_link": true
    },
    "kernelspec": {
      "name": "python3",
      "display_name": "Python 3"
    },
    "language_info": {
      "name": "python"
    },
    "widgets": {
      "application/vnd.jupyter.widget-state+json": {
        "04526e4f652c42448192b4f973f2fcf0": {
          "model_module": "@jupyter-widgets/controls",
          "model_name": "HBoxModel",
          "model_module_version": "1.5.0",
          "state": {
            "_dom_classes": [],
            "_model_module": "@jupyter-widgets/controls",
            "_model_module_version": "1.5.0",
            "_model_name": "HBoxModel",
            "_view_count": null,
            "_view_module": "@jupyter-widgets/controls",
            "_view_module_version": "1.5.0",
            "_view_name": "HBoxView",
            "box_style": "",
            "children": [
              "IPY_MODEL_a60ac81c4bca4a8698ea705a37958217",
              "IPY_MODEL_9081245dfdfe4dcfb557fba424400cbf",
              "IPY_MODEL_78ecbb5e4e8b480ebc02c62f75c076f4"
            ],
            "layout": "IPY_MODEL_cbb43f06a44d4da88c567e6e7cc16a7d"
          }
        },
        "a60ac81c4bca4a8698ea705a37958217": {
          "model_module": "@jupyter-widgets/controls",
          "model_name": "HTMLModel",
          "model_module_version": "1.5.0",
          "state": {
            "_dom_classes": [],
            "_model_module": "@jupyter-widgets/controls",
            "_model_module_version": "1.5.0",
            "_model_name": "HTMLModel",
            "_view_count": null,
            "_view_module": "@jupyter-widgets/controls",
            "_view_module_version": "1.5.0",
            "_view_name": "HTMLView",
            "description": "",
            "description_tooltip": null,
            "layout": "IPY_MODEL_7c03d09020a54fd8a7884be2faf9f1b6",
            "placeholder": "​",
            "style": "IPY_MODEL_f96a936e37674325ae93159ac4261772",
            "value": ""
          }
        },
        "9081245dfdfe4dcfb557fba424400cbf": {
          "model_module": "@jupyter-widgets/controls",
          "model_name": "FloatProgressModel",
          "model_module_version": "1.5.0",
          "state": {
            "_dom_classes": [],
            "_model_module": "@jupyter-widgets/controls",
            "_model_module_version": "1.5.0",
            "_model_name": "FloatProgressModel",
            "_view_count": null,
            "_view_module": "@jupyter-widgets/controls",
            "_view_module_version": "1.5.0",
            "_view_name": "ProgressView",
            "bar_style": "success",
            "description": "",
            "description_tooltip": null,
            "layout": "IPY_MODEL_85e2bbffb6fd47f18d651d84b365bb57",
            "max": 1,
            "min": 0,
            "orientation": "horizontal",
            "style": "IPY_MODEL_660bae3491714f08b7739daeca1ed96d",
            "value": 1
          }
        },
        "78ecbb5e4e8b480ebc02c62f75c076f4": {
          "model_module": "@jupyter-widgets/controls",
          "model_name": "HTMLModel",
          "model_module_version": "1.5.0",
          "state": {
            "_dom_classes": [],
            "_model_module": "@jupyter-widgets/controls",
            "_model_module_version": "1.5.0",
            "_model_name": "HTMLModel",
            "_view_count": null,
            "_view_module": "@jupyter-widgets/controls",
            "_view_module_version": "1.5.0",
            "_view_name": "HTMLView",
            "description": "",
            "description_tooltip": null,
            "layout": "IPY_MODEL_100fd3517ee14ae78f3cb97bc4884997",
            "placeholder": "​",
            "style": "IPY_MODEL_3dbfbeedc12b40c882cbc69280acb7b1",
            "value": " 346/? [19:12&lt;00:00,  3.03s/it]"
          }
        },
        "cbb43f06a44d4da88c567e6e7cc16a7d": {
          "model_module": "@jupyter-widgets/base",
          "model_name": "LayoutModel",
          "model_module_version": "1.2.0",
          "state": {
            "_model_module": "@jupyter-widgets/base",
            "_model_module_version": "1.2.0",
            "_model_name": "LayoutModel",
            "_view_count": null,
            "_view_module": "@jupyter-widgets/base",
            "_view_module_version": "1.2.0",
            "_view_name": "LayoutView",
            "align_content": null,
            "align_items": null,
            "align_self": null,
            "border": null,
            "bottom": null,
            "display": null,
            "flex": null,
            "flex_flow": null,
            "grid_area": null,
            "grid_auto_columns": null,
            "grid_auto_flow": null,
            "grid_auto_rows": null,
            "grid_column": null,
            "grid_gap": null,
            "grid_row": null,
            "grid_template_areas": null,
            "grid_template_columns": null,
            "grid_template_rows": null,
            "height": null,
            "justify_content": null,
            "justify_items": null,
            "left": null,
            "margin": null,
            "max_height": null,
            "max_width": null,
            "min_height": null,
            "min_width": null,
            "object_fit": null,
            "object_position": null,
            "order": null,
            "overflow": null,
            "overflow_x": null,
            "overflow_y": null,
            "padding": null,
            "right": null,
            "top": null,
            "visibility": null,
            "width": null
          }
        },
        "7c03d09020a54fd8a7884be2faf9f1b6": {
          "model_module": "@jupyter-widgets/base",
          "model_name": "LayoutModel",
          "model_module_version": "1.2.0",
          "state": {
            "_model_module": "@jupyter-widgets/base",
            "_model_module_version": "1.2.0",
            "_model_name": "LayoutModel",
            "_view_count": null,
            "_view_module": "@jupyter-widgets/base",
            "_view_module_version": "1.2.0",
            "_view_name": "LayoutView",
            "align_content": null,
            "align_items": null,
            "align_self": null,
            "border": null,
            "bottom": null,
            "display": null,
            "flex": null,
            "flex_flow": null,
            "grid_area": null,
            "grid_auto_columns": null,
            "grid_auto_flow": null,
            "grid_auto_rows": null,
            "grid_column": null,
            "grid_gap": null,
            "grid_row": null,
            "grid_template_areas": null,
            "grid_template_columns": null,
            "grid_template_rows": null,
            "height": null,
            "justify_content": null,
            "justify_items": null,
            "left": null,
            "margin": null,
            "max_height": null,
            "max_width": null,
            "min_height": null,
            "min_width": null,
            "object_fit": null,
            "object_position": null,
            "order": null,
            "overflow": null,
            "overflow_x": null,
            "overflow_y": null,
            "padding": null,
            "right": null,
            "top": null,
            "visibility": null,
            "width": null
          }
        },
        "f96a936e37674325ae93159ac4261772": {
          "model_module": "@jupyter-widgets/controls",
          "model_name": "DescriptionStyleModel",
          "model_module_version": "1.5.0",
          "state": {
            "_model_module": "@jupyter-widgets/controls",
            "_model_module_version": "1.5.0",
            "_model_name": "DescriptionStyleModel",
            "_view_count": null,
            "_view_module": "@jupyter-widgets/base",
            "_view_module_version": "1.2.0",
            "_view_name": "StyleView",
            "description_width": ""
          }
        },
        "85e2bbffb6fd47f18d651d84b365bb57": {
          "model_module": "@jupyter-widgets/base",
          "model_name": "LayoutModel",
          "model_module_version": "1.2.0",
          "state": {
            "_model_module": "@jupyter-widgets/base",
            "_model_module_version": "1.2.0",
            "_model_name": "LayoutModel",
            "_view_count": null,
            "_view_module": "@jupyter-widgets/base",
            "_view_module_version": "1.2.0",
            "_view_name": "LayoutView",
            "align_content": null,
            "align_items": null,
            "align_self": null,
            "border": null,
            "bottom": null,
            "display": null,
            "flex": null,
            "flex_flow": null,
            "grid_area": null,
            "grid_auto_columns": null,
            "grid_auto_flow": null,
            "grid_auto_rows": null,
            "grid_column": null,
            "grid_gap": null,
            "grid_row": null,
            "grid_template_areas": null,
            "grid_template_columns": null,
            "grid_template_rows": null,
            "height": null,
            "justify_content": null,
            "justify_items": null,
            "left": null,
            "margin": null,
            "max_height": null,
            "max_width": null,
            "min_height": null,
            "min_width": null,
            "object_fit": null,
            "object_position": null,
            "order": null,
            "overflow": null,
            "overflow_x": null,
            "overflow_y": null,
            "padding": null,
            "right": null,
            "top": null,
            "visibility": null,
            "width": "20px"
          }
        },
        "660bae3491714f08b7739daeca1ed96d": {
          "model_module": "@jupyter-widgets/controls",
          "model_name": "ProgressStyleModel",
          "model_module_version": "1.5.0",
          "state": {
            "_model_module": "@jupyter-widgets/controls",
            "_model_module_version": "1.5.0",
            "_model_name": "ProgressStyleModel",
            "_view_count": null,
            "_view_module": "@jupyter-widgets/base",
            "_view_module_version": "1.2.0",
            "_view_name": "StyleView",
            "bar_color": null,
            "description_width": ""
          }
        },
        "100fd3517ee14ae78f3cb97bc4884997": {
          "model_module": "@jupyter-widgets/base",
          "model_name": "LayoutModel",
          "model_module_version": "1.2.0",
          "state": {
            "_model_module": "@jupyter-widgets/base",
            "_model_module_version": "1.2.0",
            "_model_name": "LayoutModel",
            "_view_count": null,
            "_view_module": "@jupyter-widgets/base",
            "_view_module_version": "1.2.0",
            "_view_name": "LayoutView",
            "align_content": null,
            "align_items": null,
            "align_self": null,
            "border": null,
            "bottom": null,
            "display": null,
            "flex": null,
            "flex_flow": null,
            "grid_area": null,
            "grid_auto_columns": null,
            "grid_auto_flow": null,
            "grid_auto_rows": null,
            "grid_column": null,
            "grid_gap": null,
            "grid_row": null,
            "grid_template_areas": null,
            "grid_template_columns": null,
            "grid_template_rows": null,
            "height": null,
            "justify_content": null,
            "justify_items": null,
            "left": null,
            "margin": null,
            "max_height": null,
            "max_width": null,
            "min_height": null,
            "min_width": null,
            "object_fit": null,
            "object_position": null,
            "order": null,
            "overflow": null,
            "overflow_x": null,
            "overflow_y": null,
            "padding": null,
            "right": null,
            "top": null,
            "visibility": null,
            "width": null
          }
        },
        "3dbfbeedc12b40c882cbc69280acb7b1": {
          "model_module": "@jupyter-widgets/controls",
          "model_name": "DescriptionStyleModel",
          "model_module_version": "1.5.0",
          "state": {
            "_model_module": "@jupyter-widgets/controls",
            "_model_module_version": "1.5.0",
            "_model_name": "DescriptionStyleModel",
            "_view_count": null,
            "_view_module": "@jupyter-widgets/base",
            "_view_module_version": "1.2.0",
            "_view_name": "StyleView",
            "description_width": ""
          }
        }
      }
    }
  },
  "cells": [
    {
      "cell_type": "markdown",
      "metadata": {
        "id": "view-in-github",
        "colab_type": "text"
      },
      "source": [
        "<a href=\"https://colab.research.google.com/github/sahilrajpal121/Get-paid-right/blob/main/Job_Postings_Cleaned_0.ipynb\" target=\"_parent\"><img src=\"https://colab.research.google.com/assets/colab-badge.svg\" alt=\"Open In Colab\"/></a>"
      ]
    },
    {
      "cell_type": "code",
      "execution_count": null,
      "metadata": {
        "id": "PDdOJxL4LJ-6"
      },
      "outputs": [],
      "source": [
        "import pandas as pd\n",
        "import numpy as np\n",
        "from pathlib import Path\n",
        "from tqdm.notebook import tqdm\n",
        "pd.set_option(\"display.max_columns\", None)\n",
        "from translate import Translator"
      ]
    },
    {
      "cell_type": "code",
      "source": [
        "path = r\"D:\\extracted apps\\archive (5).zip\"\n",
        "cols = [\"sourceCC\", \"json\", \"position\", \"salary\", \"name\", \"source\"]\n",
        "# postings = pd.read_json(path, lines=True, chunksize=10000)"
      ],
      "metadata": {
        "id": "QuE3guQvLUt2"
      },
      "execution_count": null,
      "outputs": []
    },
    {
      "cell_type": "code",
      "source": [
        "# sample_df = None\n",
        "# i = 1\n",
        "# for chunk in tqdm(postings):\n",
        "#     salaries = chunk.dropna(subset=['salary'])[cols]\n",
        "#     salaries.to_json(f\"D:/extracted apps/postings/postings_{i}.json\")\n",
        "#     i += 1"
      ],
      "metadata": {
        "colab": {
          "base_uri": "https://localhost:8080/",
          "height": 49,
          "referenced_widgets": [
            "04526e4f652c42448192b4f973f2fcf0",
            "a60ac81c4bca4a8698ea705a37958217",
            "9081245dfdfe4dcfb557fba424400cbf",
            "78ecbb5e4e8b480ebc02c62f75c076f4",
            "cbb43f06a44d4da88c567e6e7cc16a7d",
            "7c03d09020a54fd8a7884be2faf9f1b6",
            "f96a936e37674325ae93159ac4261772",
            "85e2bbffb6fd47f18d651d84b365bb57",
            "660bae3491714f08b7739daeca1ed96d",
            "100fd3517ee14ae78f3cb97bc4884997",
            "3dbfbeedc12b40c882cbc69280acb7b1"
          ]
        },
        "id": "4j35stuILkEL",
        "outputId": "75bca638-c02e-4dda-c80f-4afc20ff9342"
      },
      "execution_count": null,
      "outputs": [
        {
          "output_type": "display_data",
          "data": {
            "text/plain": [
              "0it [00:00, ?it/s]"
            ],
            "application/vnd.jupyter.widget-view+json": {
              "version_major": 2,
              "version_minor": 0,
              "model_id": "04526e4f652c42448192b4f973f2fcf0"
            }
          },
          "metadata": {}
        }
      ]
    },
    {
      "cell_type": "code",
      "source": [
        "postings1 = pd.read_json(r\"D:\\extracted apps\\postings\\postings_1.json\")\n",
        "postings1.head()"
      ],
      "metadata": {
        "colab": {
          "base_uri": "https://localhost:8080/",
          "height": 597
        },
        "id": "0SAbMhordH-E",
        "outputId": "41880b77-82aa-4383-bb91-f328a8e416f2"
      },
      "execution_count": null,
      "outputs": [
        {
          "output_type": "execute_result",
          "data": {
            "text/plain": [
              "      sourceCC                                               json  \\\n",
              "20000       nz  {'pageData': {'dashboard': {'savedJobs': None,...   \n",
              "20001       ch  {'pageData': {'country': 'CH', 'educationEntit...   \n",
              "20002       au  {'pageData': {'dashboard': {'savedJobs': None,...   \n",
              "20003       au  {'pageData': {'dashboard': {'savedJobs': None,...   \n",
              "20004       au  {'pageData': {'dashboard': {'savedJobs': None,...   \n",
              "...        ...                                                ...   \n",
              "29995       de                                               None   \n",
              "29996       de                                               None   \n",
              "29997       de                                               None   \n",
              "29998       in  {'pageData': {'redirectUrl': 'https://www.baja...   \n",
              "29999       de                                               None   \n",
              "\n",
              "                                                position  \\\n",
              "20000  {'name': 'Online Shopping Delivery Driver', 'w...   \n",
              "20001                       {'name': 'OBERÄRZTIN/-ARZT'}   \n",
              "20002  {'name': 'Quality Assurance (QA) Officer', 'wo...   \n",
              "20003  {'name': 'Experience Coordinator', 'workType':...   \n",
              "20004  {'name': 'Customer Relationship Specialist', '...   \n",
              "...                                                  ...   \n",
              "29995  {'name': 'Staplerfahrer (Helfer - Papier, Verp...   \n",
              "29996  {'name': 'Lagermitarbeiter Quereinstieg (Gabel...   \n",
              "29997  {'name': 'Kommissionierer (Lager- und Transpor...   \n",
              "29998  {'name': 'Assistant Manager - Rural Consumer D...   \n",
              "29999  {'name': 'Staplerfahrer Werkzeug (Gabelstapler...   \n",
              "\n",
              "                                                  salary  \\\n",
              "20000                           {'period': 'HourlyRate'}   \n",
              "20001                                   {'text': 'null'}   \n",
              "20002                               {'period': 'Annual'}   \n",
              "20003                               {'period': 'Annual'}   \n",
              "20004  {'text': 'Attractive remuneration package on o...   \n",
              "...                                                  ...   \n",
              "29995  {'text': '13 Euro, Bei der Besetzung des Stell...   \n",
              "29996  {'text': '13, Bei der Besetzung des Stellenang...   \n",
              "29997  {'text': '11,50  Euro /Stunde, Bei der Besetzu...   \n",
              "29998           {'text': 'Not disclosed (INR per P.A.)'}   \n",
              "29999  {'text': '12 Euro, Bei der Besetzung des Stell...   \n",
              "\n",
              "                                                    name             source  \n",
              "20000                    Online Shopping Delivery Driver            seek_nz  \n",
              "20001                                   OBERÄRZTIN/-ARZT     simplyhired_ch  \n",
              "20002                     Quality Assurance (QA) Officer            seek_au  \n",
              "20003                             Experience Coordinator            seek_au  \n",
              "20004                   Customer Relationship Specialist            seek_au  \n",
              "...                                                  ...                ...  \n",
              "29995  Staplerfahrer (m/w/d) (Helfer/in - Papier, Ver...  arbeitsagentur_de  \n",
              "29996  Lagermitarbeiter (m/w/d) Quereinstieg (Gabelst...  arbeitsagentur_de  \n",
              "29997  Kommissionierer (m/w/d) (Lager- und Transporta...  arbeitsagentur_de  \n",
              "29998         Assistant Manager - Rural Consumer Durable     monsterasia_in  \n",
              "29999  Staplerfahrer (m/w/d) Werkzeug (Gabelstaplerfa...  arbeitsagentur_de  \n",
              "\n",
              "[7550 rows x 6 columns]"
            ],
            "text/html": [
              "<div>\n",
              "<style scoped>\n",
              "    .dataframe tbody tr th:only-of-type {\n",
              "        vertical-align: middle;\n",
              "    }\n",
              "\n",
              "    .dataframe tbody tr th {\n",
              "        vertical-align: top;\n",
              "    }\n",
              "\n",
              "    .dataframe thead th {\n",
              "        text-align: right;\n",
              "    }\n",
              "</style>\n",
              "<table border=\"1\" class=\"dataframe\">\n",
              "  <thead>\n",
              "    <tr style=\"text-align: right;\">\n",
              "      <th></th>\n",
              "      <th>sourceCC</th>\n",
              "      <th>json</th>\n",
              "      <th>position</th>\n",
              "      <th>salary</th>\n",
              "      <th>name</th>\n",
              "      <th>source</th>\n",
              "    </tr>\n",
              "  </thead>\n",
              "  <tbody>\n",
              "    <tr>\n",
              "      <th>20000</th>\n",
              "      <td>nz</td>\n",
              "      <td>{'pageData': {'dashboard': {'savedJobs': None,...</td>\n",
              "      <td>{'name': 'Online Shopping Delivery Driver', 'w...</td>\n",
              "      <td>{'period': 'HourlyRate'}</td>\n",
              "      <td>Online Shopping Delivery Driver</td>\n",
              "      <td>seek_nz</td>\n",
              "    </tr>\n",
              "    <tr>\n",
              "      <th>20001</th>\n",
              "      <td>ch</td>\n",
              "      <td>{'pageData': {'country': 'CH', 'educationEntit...</td>\n",
              "      <td>{'name': 'OBERÄRZTIN/-ARZT'}</td>\n",
              "      <td>{'text': 'null'}</td>\n",
              "      <td>OBERÄRZTIN/-ARZT</td>\n",
              "      <td>simplyhired_ch</td>\n",
              "    </tr>\n",
              "    <tr>\n",
              "      <th>20002</th>\n",
              "      <td>au</td>\n",
              "      <td>{'pageData': {'dashboard': {'savedJobs': None,...</td>\n",
              "      <td>{'name': 'Quality Assurance (QA) Officer', 'wo...</td>\n",
              "      <td>{'period': 'Annual'}</td>\n",
              "      <td>Quality Assurance (QA) Officer</td>\n",
              "      <td>seek_au</td>\n",
              "    </tr>\n",
              "    <tr>\n",
              "      <th>20003</th>\n",
              "      <td>au</td>\n",
              "      <td>{'pageData': {'dashboard': {'savedJobs': None,...</td>\n",
              "      <td>{'name': 'Experience Coordinator', 'workType':...</td>\n",
              "      <td>{'period': 'Annual'}</td>\n",
              "      <td>Experience Coordinator</td>\n",
              "      <td>seek_au</td>\n",
              "    </tr>\n",
              "    <tr>\n",
              "      <th>20004</th>\n",
              "      <td>au</td>\n",
              "      <td>{'pageData': {'dashboard': {'savedJobs': None,...</td>\n",
              "      <td>{'name': 'Customer Relationship Specialist', '...</td>\n",
              "      <td>{'text': 'Attractive remuneration package on o...</td>\n",
              "      <td>Customer Relationship Specialist</td>\n",
              "      <td>seek_au</td>\n",
              "    </tr>\n",
              "    <tr>\n",
              "      <th>...</th>\n",
              "      <td>...</td>\n",
              "      <td>...</td>\n",
              "      <td>...</td>\n",
              "      <td>...</td>\n",
              "      <td>...</td>\n",
              "      <td>...</td>\n",
              "    </tr>\n",
              "    <tr>\n",
              "      <th>29995</th>\n",
              "      <td>de</td>\n",
              "      <td>None</td>\n",
              "      <td>{'name': 'Staplerfahrer (Helfer - Papier, Verp...</td>\n",
              "      <td>{'text': '13 Euro, Bei der Besetzung des Stell...</td>\n",
              "      <td>Staplerfahrer (m/w/d) (Helfer/in - Papier, Ver...</td>\n",
              "      <td>arbeitsagentur_de</td>\n",
              "    </tr>\n",
              "    <tr>\n",
              "      <th>29996</th>\n",
              "      <td>de</td>\n",
              "      <td>None</td>\n",
              "      <td>{'name': 'Lagermitarbeiter Quereinstieg (Gabel...</td>\n",
              "      <td>{'text': '13, Bei der Besetzung des Stellenang...</td>\n",
              "      <td>Lagermitarbeiter (m/w/d) Quereinstieg (Gabelst...</td>\n",
              "      <td>arbeitsagentur_de</td>\n",
              "    </tr>\n",
              "    <tr>\n",
              "      <th>29997</th>\n",
              "      <td>de</td>\n",
              "      <td>None</td>\n",
              "      <td>{'name': 'Kommissionierer (Lager- und Transpor...</td>\n",
              "      <td>{'text': '11,50  Euro /Stunde, Bei der Besetzu...</td>\n",
              "      <td>Kommissionierer (m/w/d) (Lager- und Transporta...</td>\n",
              "      <td>arbeitsagentur_de</td>\n",
              "    </tr>\n",
              "    <tr>\n",
              "      <th>29998</th>\n",
              "      <td>in</td>\n",
              "      <td>{'pageData': {'redirectUrl': 'https://www.baja...</td>\n",
              "      <td>{'name': 'Assistant Manager - Rural Consumer D...</td>\n",
              "      <td>{'text': 'Not disclosed (INR per P.A.)'}</td>\n",
              "      <td>Assistant Manager - Rural Consumer Durable</td>\n",
              "      <td>monsterasia_in</td>\n",
              "    </tr>\n",
              "    <tr>\n",
              "      <th>29999</th>\n",
              "      <td>de</td>\n",
              "      <td>None</td>\n",
              "      <td>{'name': 'Staplerfahrer Werkzeug (Gabelstapler...</td>\n",
              "      <td>{'text': '12 Euro, Bei der Besetzung des Stell...</td>\n",
              "      <td>Staplerfahrer (m/w/d) Werkzeug (Gabelstaplerfa...</td>\n",
              "      <td>arbeitsagentur_de</td>\n",
              "    </tr>\n",
              "  </tbody>\n",
              "</table>\n",
              "<p>7550 rows × 6 columns</p>\n",
              "</div>"
            ]
          },
          "metadata": {},
          "execution_count": 12
        }
      ]
    },
    {
      "cell_type": "code",
      "source": [
        "# pd.json_normalize(postings1.json, errors='ignore')"
      ],
      "metadata": {
        "id": "ZYsJubEcvMY9"
      },
      "execution_count": null,
      "outputs": []
    },
    {
      "cell_type": "code",
      "source": [
        "job_title_de = postings1.json.iloc[1]['pageData']['job']['title']\n",
        "Translator(from_lang='de', to_lang='en').translate(job_title_de)"
      ],
      "metadata": {
        "colab": {
          "base_uri": "https://localhost:8080/"
        },
        "id": "ANRqMf90rcsb",
        "outputId": "970051a8-0869-4043-999e-9b849f772880"
      },
      "execution_count": null,
      "outputs": [
        {
          "output_type": "execute_result",
          "data": {
            "text/plain": [
              "'SENIOR PHYSICIAN'"
            ]
          },
          "metadata": {},
          "execution_count": 53
        }
      ]
    },
    {
      "cell_type": "code",
      "source": [
        "postings1.sourceCC.value_counts()\n",
        "# postings1.json.iloc[1]['pageData2'].keys()"
      ],
      "metadata": {
        "colab": {
          "base_uri": "https://localhost:8080/"
        },
        "id": "pbIxYNBUlA7u",
        "outputId": "84f6b065-9621-4a85-f983-6d892676bec8"
      },
      "execution_count": null,
      "outputs": [
        {
          "output_type": "execute_result",
          "data": {
            "text/plain": [
              "uk    0.421987\n",
              "au    0.188609\n",
              "de    0.121854\n",
              "nz    0.069801\n",
              "in    0.068477\n",
              "us    0.035497\n",
              "ch    0.022252\n",
              "ru    0.015894\n",
              "nl    0.010993\n",
              "at    0.007285\n",
              "sg    0.005298\n",
              "ae    0.005033\n",
              "fr    0.005033\n",
              "ph    0.004901\n",
              "it    0.004371\n",
              "be    0.002384\n",
              "ie    0.002119\n",
              "kz    0.001854\n",
              "se    0.001722\n",
              "my    0.001325\n",
              "ca    0.000795\n",
              "ua    0.000795\n",
              "vn    0.000530\n",
              "es    0.000530\n",
              "th    0.000397\n",
              "lu    0.000265\n",
              "Name: sourceCC, dtype: float64"
            ]
          },
          "metadata": {},
          "execution_count": 35
        }
      ]
    }
  ]
}